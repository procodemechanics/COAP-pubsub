{
 "cells": [
  {
   "cell_type": "code",
   "execution_count": 87,
   "metadata": {
    "scrolled": true
   },
   "outputs": [
    {
     "name": "stdout",
     "output_type": "stream",
     "text": [
      "{5: [71.923829]}\n",
      "{5: [71.923829, 47.464752]}\n",
      "{5: [71.923829, 47.464752, 40.81825]}\n",
      "{5: [71.923829, 47.464752, 40.81825], 10: [44.07353]}\n",
      "{5: [71.923829, 47.464752, 40.81825], 10: [44.07353, 91.939602]}\n",
      "{5: [71.923829, 47.464752, 40.81825], 10: [44.07353, 91.939602, 73.21384800000001]}\n",
      "{5: [71.923829, 47.464752, 40.81825], 10: [44.07353, 91.939602, 73.21384800000001], 15: [160.24589100000003]}\n",
      "{5: [71.923829, 47.464752, 40.81825], 10: [44.07353, 91.939602, 73.21384800000001], 15: [160.24589100000003, 162.993701]}\n",
      "{5: [71.923829, 47.464752, 40.81825], 10: [44.07353, 91.939602, 73.21384800000001], 15: [160.24589100000003, 162.993701, 101.516812]}\n",
      "{5: [71.923829, 47.464752, 40.81825], 10: [44.07353, 91.939602, 73.21384800000001], 15: [160.24589100000003, 162.993701, 101.516812], 20: [187.350918]}\n",
      "{5: [71.923829, 47.464752, 40.81825], 10: [44.07353, 91.939602, 73.21384800000001], 15: [160.24589100000003, 162.993701, 101.516812], 20: [187.350918, 238.555849]}\n",
      "{5: [71.923829, 47.464752, 40.81825], 10: [44.07353, 91.939602, 73.21384800000001], 15: [160.24589100000003, 162.993701, 101.516812], 20: [187.350918, 238.555849, 248.709772]}\n"
     ]
    },
    {
     "data": {
      "text/plain": [
       "Text(0,0.5,'Completion Time (s)')"
      ]
     },
     "execution_count": 87,
     "metadata": {},
     "output_type": "execute_result"
    },
    {
     "data": {
      "image/png": "[encoded data removed]",
      "text/plain": [
       "<Figure size 432x288 with 1 Axes>"
      ]
     },
     "metadata": {},
     "output_type": "display_data"
    }
   ],
   "source": [
    "import numpy as np\n",
    "import pandas as pd\n",
    "import matplotlib.pyplot as pl\n",
    "import os\n",
    "import subprocess\n",
    "import sys\n",
    "import glob as glob\n",
    "\n",
    "\n",
    "#filenames = glob.glob('./coap_traces/CoAP/coaploss*.pcapng')\n",
    "#print(filenames)\n",
    "\n",
    "\n",
    "#Grouping trace files with same loss rate into a dictionary\n",
    "dict_files=dict()\n",
    "for i in range(5,25,5):\n",
    "    for j in range(1,4):\n",
    "        filename=glob.glob('./coap_traces/CoAP/coaploss'+str(i)+'-'+str(j)+'.pcapng')\n",
    "        #print(filename)\n",
    "        #print(type(filename))\n",
    "        if i in dict_files.keys():\n",
    "            dict_files[i].append(filename[0])\n",
    "        else:\n",
    "            dict_files[i] = []\n",
    "            dict_files[i].append(filename[0])\n",
    "        \n",
    "#print(dict_files)\n",
    "#Writing trace files to a dataframe and computing completion time\n",
    "comp_time_dict=dict()\n",
    "#for i in dict_files.keys():\n",
    "for i,j in dict_files.items():\n",
    "    for k in range(0,3):\n",
    "        #print(j[k])\n",
    "        output= subprocess.Popen(\"tshark -r \"+j[k]+\" -Y 'coap.type==0 or coap.type==2'| awk '{print $1,$2,$3,$5,$6,$8}' > coap_packets\", stdout=subprocess.PIPE, shell=True)\n",
    "        output_pid = output.pid\n",
    "        os.waitpid(output_pid, 0)\n",
    "        file = open('coap_packets', 'r+')\n",
    "        X_temp=pd.read_table(file,sep=\" \",names=['pkt_id','timestamp','from','to','protocol','msg_type'])\n",
    "        #print(X_temp)\n",
    "\n",
    "        for row in X_temp.itertuples():\n",
    "            if(row.Index==0 and row.msg_type=='CON,'):\n",
    "                conn_start_time=row.timestamp\n",
    "            if (row.msg_type=='ACK,'):\n",
    "                conn_stop_time=row.timestamp\n",
    "        #print(\"start\",conn_start_time)\n",
    "        #print(\"stop\",conn_stop_time)\n",
    "        comp_time=conn_stop_time-conn_start_time\n",
    "        #print(\"i = \",i)\n",
    "        #print(\"j = \",j)\n",
    "        #print(type(comp_time))\n",
    "        #print(comp_time)\n",
    "        if i in comp_time_dict.keys():\n",
    "            comp_time_dict[i].append(comp_time)\n",
    "            #print(\"if\")\n",
    "        else:\n",
    "            comp_time_dict[i]=[]\n",
    "            comp_time_dict[i].append(comp_time)\n",
    "            #print(\"else\")\n",
    "        print(comp_time_dict)              \n",
    "            \n",
    "pl.figure()\n",
    "pl.title('Completion time for varying loss rate %')\n",
    "pl.boxplot(comp_time_dict.values(),labels=dict_files.keys())\n",
    "pl.grid()\n",
    "pl.xlabel('Loss (%)')\n",
    "pl.ylabel('Completion Time (s)')    \n",
    "    \n"
   ]
  },
  {
   "cell_type": "code",
   "execution_count": null,
   "metadata": {},
   "outputs": [],
   "source": []
  },
  {
   "cell_type": "code",
   "execution_count": null,
   "metadata": {},
   "outputs": [],
   "source": []
  },
  {
   "cell_type": "code",
   "execution_count": null,
   "metadata": {},
   "outputs": [],
   "source": []
  },
  {
   "cell_type": "code",
   "execution_count": null,
   "metadata": {},
   "outputs": [],
   "source": []
  }
 ],
 "metadata": {
  "kernelspec": {
   "display_name": "Python 3",
   "language": "python",
   "name": "python3"
  },
  "language_info": {
   "codemirror_mode": {
    "name": "ipython",
    "version": 3
   },
   "file_extension": ".py",
   "mimetype": "text/x-python",
   "name": "python",
   "nbconvert_exporter": "python",
   "pygments_lexer": "ipython3",
   "version": "3.6.5"
  }
 },
 "nbformat": 4,
 "nbformat_minor": 2
}
